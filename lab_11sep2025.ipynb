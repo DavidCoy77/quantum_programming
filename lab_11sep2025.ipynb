{
  "cells": [
    {
      "cell_type": "markdown",
      "metadata": {
        "colab_type": "text",
        "id": "view-in-github"
      },
      "source": [
        "<a href=\"https://colab.research.google.com/github/DavidCoy77/quantum_programming/blob/main/lab_11sep2025.ipynb\" target=\"_parent\"><img src=\"https://colab.research.google.com/assets/colab-badge.svg\" alt=\"Open In Colab\"/></a>"
      ]
    },
    {
      "cell_type": "code",
      "execution_count": null,
      "metadata": {
        "id": "IeoroX2E01lj"
      },
      "outputs": [],
      "source": [
        "print('testing testing 123')\n",
        "print('new test 12039')\n",
        "\n",
        "a = 5\n",
        "b = 7\n",
        "print(f'a,b = {a},{b}')\n",
        "print(a,b)\n",
        "\n",
        "a,b = b,a\n",
        "print(a,b)\n",
        "\n",
        "print(f'a,b = {a},{b}')\n",
        "if a > b :\n",
        "    c = a + b\n",
        "    d = a - b\n",
        "    print(c,d)\n",
        "else:\n",
        "    x = a * b\n",
        "    y = a / b\n",
        "    print(x,y)"
      ]
    },
    {
      "cell_type": "code",
      "execution_count": 37,
      "metadata": {},
      "outputs": [],
      "source": [
        "#1. Installing libraries\n",
        "# pip install matplotlib\n",
        "# pip install pylatexenc\n",
        "# pip install \"qiskit[visualization]\" \n",
        "# pip install qiskit-ibm-runtime\n",
        "# pip install qiskit-aer\n",
        "#2. Importing libraries\n",
        "import matplotlib\n",
        "import matplotlib.pyplot as plt\n",
        "import numpy as np\n",
        "from qiskit import QuantumCircuit\n",
        "from qiskit.visualization import plot_histogram\n",
        "from qiskit_ibm_runtime import SamplerV2 as Sampler\n",
        "from qiskit_aer import AerSimulator\n"
      ]
    },
    {
      "cell_type": "code",
      "execution_count": null,
      "metadata": {},
      "outputs": [
        {
          "data": {
            "image/png": "[encoded data removed]",
            "text/plain": [
              "<Figure size 580.387x284.278 with 1 Axes>"
            ]
          },
          "execution_count": 53,
          "metadata": {},
          "output_type": "execute_result"
        }
      ],
      "source": [
        "#3. Creating a quantum circuit & drawing\n",
        "# qc = QuantumCircuit(2)  # quantum circtuit with 2 qubits\n",
        "# qc.h(0)  # h gate on qubit 0 \n",
        "# qc.measure_all()  # measure all \n",
        "# qc.draw(output=\"mpl\")  # draw circuit with matplotlib\n",
        "# with this circuit, it's about 50/50 00 and 01 \n",
        "\n",
        "qc = QuantumCircuit(2)  # 2 qubit circuit \n",
        "qc.h(0)  # h gate on q0 (q0 50/50, q1 is 1)\n",
        "qc.cx(0, 1)  # CNOT on q0 & q1. q0 is the control bit, q1 is the target bit \n",
        "qc.measure_all()\n",
        "qc.draw(output=\"mpl\")  # draw circuit with matplotlib\n",
        "# with this circuit, 50/50 00 and 11 \n",
        "# qubits start the circuit in state 0 \n"
      ]
    },
    {
      "cell_type": "code",
      "execution_count": 54,
      "metadata": {},
      "outputs": [
        {
          "name": "stdout",
          "output_type": "stream",
          "text": [
            "AerSimulator('aer_simulator')\n"
          ]
        }
      ],
      "source": [
        "#4. Initializing backend (Aer Simulator)\n",
        "backend = AerSimulator()\n",
        "print(backend)"
      ]
    },
    {
      "cell_type": "code",
      "execution_count": 58,
      "metadata": {},
      "outputs": [],
      "source": [
        "#5. Executing the quantum circuit\n",
        "sampler = Sampler(mode=backend)  # make sampler, use AER simulator for backend\n",
        "pub = (qc,)  # (,) are there bc IBM says so \n",
        "job = sampler.run([qc], shots=int(1e4))  # [pub] has [] because IBM says so \n",
        "# 1e4 = 1 x 10^4 = 10,000\n"
      ]
    },
    {
      "cell_type": "code",
      "execution_count": 59,
      "metadata": {},
      "outputs": [
        {
          "data": {
            "image/png": "[encoded data removed]",
            "text/plain": [
              "<Figure size 640x480 with 1 Axes>"
            ]
          },
          "execution_count": 59,
          "metadata": {},
          "output_type": "execute_result"
        }
      ],
      "source": [
        "#6. Plotting results\n",
        "counts_int = job.result()[0].data.meas.get_int_counts()\n",
        "counts_bin = job.result()[0].data.meas.get_counts()\n",
        "plot_histogram(counts_bin)"
      ]
    }
  ],
  "metadata": {
    "colab": {
      "authorship_tag": "ABX9TyO6WM9IPvA40qoa4ixKDKG6",
      "include_colab_link": true,
      "provenance": []
    },
    "kernelspec": {
      "display_name": "Python 3",
      "name": "python3"
    },
    "language_info": {
      "name": "python",
      "version": "3.13.2"
    }
  },
  "nbformat": 4,
  "nbformat_minor": 0
}
