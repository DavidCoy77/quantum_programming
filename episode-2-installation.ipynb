{
 "cells": [
  {
   "cell_type": "code",
   "execution_count": 5,
   "metadata": {},
   "outputs": [
    {
     "name": "stdout",
     "output_type": "stream",
     "text": [
      "Hello World\n",
      "qiskit.__version__: 1.4.0\n",
      "\n"
     ]
    }
   ],
   "source": [
    "# credit to Derek Wang\n",
    "# How to Install Qiskit | Coding with Qiskit 1.x | Programming on Quantum Computers\n",
    "# https://www.youtube.com/watch?v=dZWz4Gs_BuI&list=PLOFEBzvs-VvrgHZt3exM_NNiNKtZlHvZi&index=3\n",
    "import qiskit\n",
    "\n",
    "print(\"Hello World\")\n",
    "print(f\"qiskit.__version__: {qiskit.__version__}\\n\")"
   ]
  },
  {
   "cell_type": "code",
   "execution_count": null,
   "metadata": {},
   "outputs": [
    {
     "name": "stdout",
     "output_type": "stream",
     "text": [
      "test\n"
     ]
    }
   ],
   "source": [
    "from qiskit_ibm_runtime import QiskitRuntimeService\n",
    "\n",
    "# make a service object (instance of a QiskitRuntimeService)\n",
    "service = QiskitRuntimeService(channel=\"ibm_quantum\",\n",
    "                               token=\"b6bc6fa6074cb7f42865f5c19c0a400b3301452c75fb3acbc1dfdddcde9311f88de34966f31815b48d05e2299a14f237dad38fec3d613593a6c93b2980ad7c1b\")\n",
    "\n",
    "print(\"test\")\n"
   ]
  },
  {
   "cell_type": "code",
   "execution_count": 14,
   "metadata": {},
   "outputs": [],
   "source": [
    "# this makes it such that I don't need to enter my API token every time \n",
    "QiskitRuntimeService.save_account(channel=\"ibm_quantum\", token=\"b6bc6fa6074cb7f42865f5c19c0a400b3301452c75fb3acbc1dfdddcde9311f88de34966f31815b48d05e2299a14f237dad38fec3d613593a6c93b2980ad7c1b\", overwrite=True)"
   ]
  },
  {
   "cell_type": "code",
   "execution_count": 18,
   "metadata": {},
   "outputs": [
    {
     "data": {
      "text/plain": [
       "127"
      ]
     },
     "execution_count": 18,
     "metadata": {},
     "output_type": "execute_result"
    }
   ],
   "source": [
    "backend = service.backend(\"ibm_brisbane\")\n",
    "backend.num_qubits"
   ]
  },
  {
   "cell_type": "markdown",
   "metadata": {},
   "source": []
  }
 ],
 "metadata": {
  "kernelspec": {
   "display_name": "cwq",
   "language": "python",
   "name": "python3"
  },
  "language_info": {
   "codemirror_mode": {
    "name": "ipython",
    "version": 3
   },
   "file_extension": ".py",
   "mimetype": "text/x-python",
   "name": "python",
   "nbconvert_exporter": "python",
   "pygments_lexer": "ipython3",
   "version": "3.13.2"
  }
 },
 "nbformat": 4,
 "nbformat_minor": 2
}
